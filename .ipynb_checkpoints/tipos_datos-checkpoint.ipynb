{
 "cells": [
  {
   "cell_type": "code",
   "execution_count": null,
   "id": "7d6ca63e-8a04-4c67-a775-af1e85894c60",
   "metadata": {},
   "outputs": [],
   "source": [
    "%%writefile tipos_datos.cpp\n",
    "#include <iostream> \n",
    "#include <iomanip> // Required for std::setprecision\n",
    "using namespace std; \n",
    "int main() {\n",
    "    // Integer types\n",
    "    int int_var = 10;\n",
    "    short short_var = 5;\n",
    "    long long_var = 1000000;\n",
    "    long long long_long_var = 1234567090123456789LL;\n",
    "    unsigned int unsigned_int_var = 20u;\n",
    "\n",
    "    // Floating-point types\n",
    "    float float_var = 3.14f;\n",
    "    double double_var = 2.71828;\n",
    "    long double long_double_var = 1.6180339887L;\n",
    "\n",
    "    // Character types\n",
    "    char char_var = 'A';\n",
    "    wchar_t wchar_var = L'B';\n",
    "    char16_t char16_var = u'C';\n",
    "    char32_t char32_var = U'D';\n",
    "\n",
    "    // Boolean type\n",
    "    bool bool_var = true;\n",
    "\n",
    "    // Outputting the values and types\n",
    "    cout << \"Integer types:\\n\";\n",
    "    cout << \"int: \" << int_var << \"\\n\";\n",
    "    cout << \"short: \" << short_var << \"\\n\";\n",
    "    cout << \"long: \" << long_var << \"\\n\";\n",
    "    cout << \"long long: \" << long_long_var << \"\\n\";\n",
    "    cout << \"unsigned int: \" << unsigned_int_var << \"\\n\";\n",
    "\n",
    "    cout << \"\\nFloating-point types:\\n\";\n",
    "    cout << \"float: \" << float_var << \"\\n\";\n",
    "    cout << \"double: \" << double_var << \"\\n\";\n",
    "    cout << \"long double: \" << long_double_var << \"\\n\";\n",
    "\n",
    "    cout << \"\\nCharacter types:\\n\";\n",
    "    cout << \"char: \" << char_var << \"\\n\";\n",
    "    wcout << \"wchar_t: \" << wchar_var << \"\\n\"; // Se usa wcout para wide characters\n",
    "    cout << \"char16_t: \" << char16_var << \"\\n\"; // No se imprime directamente en la mayoría de consolas\n",
    "    cout << \"char32_t: \" << char32_var << \"\\n\"; // Lo mismo para char32_t\n",
    "\n",
    "    cout << \"\\nBoolean type:\\n\";\n",
    "    cout << \"bool: \" << bool_var << \"\\n\";\n",
    " \n",
    "    return 0;\n",
    "}"
   ]
  },
  {
   "cell_type": "code",
   "execution_count": null,
   "id": "d56f687b-9780-44f2-8f82-9a4cb235a22a",
   "metadata": {},
   "outputs": [],
   "source": [
    "print(\"\\n\\tcompilando...\")\n",
    "!g++ tipos_datos.cpp -o tiposDatos"
   ]
  },
  {
   "cell_type": "code",
   "execution_count": null,
   "id": "29050d68-49be-4ca3-9eba-8445398e1e69",
   "metadata": {},
   "outputs": [],
   "source": [
    "print(\"\\n\\ŧEjecutando\")\n",
    "!./tiposDatos"
   ]
  }
 ],
 "metadata": {
  "kernelspec": {
   "display_name": "Python 3 (ipykernel)",
   "language": "python",
   "name": "python3"
  },
  "language_info": {
   "codemirror_mode": {
    "name": "ipython",
    "version": 3
   },
   "file_extension": ".py",
   "mimetype": "text/x-python",
   "name": "python",
   "nbconvert_exporter": "python",
   "pygments_lexer": "ipython3",
   "version": "3.10.12"
  }
 },
 "nbformat": 4,
 "nbformat_minor": 5
}
