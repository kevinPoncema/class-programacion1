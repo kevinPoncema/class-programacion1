{
 "cells": [
  {
   "cell_type": "code",
   "execution_count": 1,
   "id": "ddfe4018-bf00-4246-addb-7f6328dcc7b6",
   "metadata": {},
   "outputs": [
    {
     "name": "stdout",
     "output_type": "stream",
     "text": [
      "Overwriting estructuraControl.cpp\n"
     ]
    }
   ],
   "source": [
    "%%writefile Guess2.cpp\n",
    "#include <iostream>\n",
    "using namespace std;\n",
    "\n",
    "int main() {\n",
    "    char ch = 'k';\n",
    "    char answerd = 'k';\n",
    "    cout << \"Estoy pensando en una letra entre la A y la Z\" << endl;\n",
    "    cout << \"¿Puedes adivinarla? \\n: \";\n",
    "    cin >> answerd;\n",
    "\n",
    "    if(ch == answerd) cout << \"**Correcto**\" << endl;\n",
    "else cout<<\"Error no socas\"\n",
    "\n",
    "    return 0;\n",
    "}\n"
   ]
  },
  {
   "cell_type": "code",
   "execution_count": 1,
   "id": "b88611e1",
   "metadata": {},
   "outputs": [
    {
     "name": "stdout",
     "output_type": "stream",
     "text": [
      "Overwriting estructuraControl.cpp\n"
     ]
    }
   ],
   "source": [
    "%%writefile Guess2.cpp\n",
    "#include <iostream>\n",
    "using namespace std;\n",
    "\n",
    "int main() {\n",
    "    char ch = 'k';\n",
    "    char answerd = 'k';\n",
    "    cout << \"Estoy pensando en una letra entre la A y la Z\" << endl;\n",
    "    cout << \"¿Puedes adivinarla? \\n: \";\n",
    "    cin >> answerd;\n",
    "\n",
    "    if(ch == answerd) cout << \"**Correcto**\" << endl;\n",
    "    else if (ch < answerd)cout<<\"Te quedastes por debajo\"<<endl;\n",
    "    else cout<<\"Te quedastes por Arriva\"<<endl;\n",
    "\n",
    "    return 0;\n",
    "}"
   ]
  },
  {
   "cell_type": "code",
   "execution_count": 2,
   "id": "7fe6597d-2cce-44b8-86a0-5be1cb5c46d6",
   "metadata": {},
   "outputs": [],
   "source": [
    "!g++ estructuraControl.cpp -o estructurasDeControl.cpp"
   ]
  },
  {
   "cell_type": "code",
   "execution_count": 3,
   "id": "85adcf46-d14f-454d-9ba5-c7fdfc47aea8",
   "metadata": {},
   "outputs": [
    {
     "name": "stdout",
     "output_type": "stream",
     "text": [
      "/bin/bash: línea 1: ./estructuraControl: No existe el archivo o el directorio\n"
     ]
    }
   ],
   "source": [
    "!./estructuraControl"
   ]
  },
  {
   "cell_type": "code",
   "execution_count": null,
   "id": "da12b104-99b5-4901-bbb3-8ddddf88f1e6",
   "metadata": {},
   "outputs": [],
   "source": []
  }
 ],
 "metadata": {
  "kernelspec": {
   "display_name": "Python 3 (ipykernel)",
   "language": "python",
   "name": "python3"
  },
  "language_info": {
   "codemirror_mode": {
    "name": "ipython",
    "version": 3
   },
   "file_extension": ".py",
   "mimetype": "text/x-python",
   "name": "python",
   "nbconvert_exporter": "python",
   "pygments_lexer": "ipython3",
   "version": "3.10.12"
  }
 },
 "nbformat": 4,
 "nbformat_minor": 5
}
