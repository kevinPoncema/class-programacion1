{
 "cells": [
  {
   "cell_type": "code",
   "execution_count": 1,
   "id": "a0ba37dc-71a9-4969-9f0e-1d795627c1f4",
   "metadata": {},
   "outputs": [
    {
     "name": "stdout",
     "output_type": "stream",
     "text": [
      "Overwriting hola.cpp\n"
     ]
    }
   ],
   "source": [
    "%%writefile estructuraControl.cpp\n",
    "#include <iostream>\n",
    "using namespace std;\n",
    "int main(){\n",
    "cout<<\"hola\";\n",
    "}"
   ]
  },
  {
   "cell_type": "code",
   "execution_count": 2,
   "id": "7fe6597d-2cce-44b8-86a0-5be1cb5c46d6",
   "metadata": {},
   "outputs": [],
   "source": [
    "!g++ estructuraControl.cpp -o estructuraControl"
   ]
  },
  {
   "cell_type": "code",
   "execution_count": 3,
   "id": "85adcf46-d14f-454d-9ba5-c7fdfc47aea8",
   "metadata": {},
   "outputs": [
    {
     "name": "stdout",
     "output_type": "stream",
     "text": [
      "hola"
     ]
    }
   ],
   "source": [
    "!./estructuraControl"
   ]
  },
  {
   "cell_type": "code",
   "execution_count": null,
   "id": "da12b104-99b5-4901-bbb3-8ddddf88f1e6",
   "metadata": {},
   "outputs": [],
   "source": []
  }
 ],
 "metadata": {
  "kernelspec": {
   "display_name": "Python 3 (ipykernel)",
   "language": "python",
   "name": "python3"
  },
  "language_info": {
   "codemirror_mode": {
    "name": "ipython",
    "version": 3
   },
   "file_extension": ".py",
   "mimetype": "text/x-python",
   "name": "python",
   "nbconvert_exporter": "python",
   "pygments_lexer": "ipython3",
   "version": "3.10.12"
  }
 },
 "nbformat": 4,
 "nbformat_minor": 5
}
