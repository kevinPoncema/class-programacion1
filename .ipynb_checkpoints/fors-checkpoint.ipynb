{
 "cells": [
  {
   "cell_type": "code",
   "execution_count": 1,
   "id": "f5192d40-d1a4-4e3f-90ed-08f9d8ee2548",
   "metadata": {},
   "outputs": [
    {
     "name": "stdout",
     "output_type": "stream",
     "text": [
      "Overwriting Escalera.cpp\n"
     ]
    }
   ],
   "source": [
    "%%writefile Escalera.cpp\n",
    "#include <iostream>\n",
    "using namespace std;\n",
    "\n",
    "int main() {\n",
    "    int x;\n",
    "    for (x=0;x<6;x++){\n",
    "        if(x==1) cout<<\"X es = 1\"<<endl;\n",
    "        else if (x==2) cout<<\"X es = 2\"<<endl;\n",
    "        else if (x==3) cout<<\"X es = 3\"<<endl;\n",
    "        else if (x==2) cout<<\"X es = 4\"<<endl;\n",
    "        else cout<<\"X no esta entre 1 y 4\"<<endl;\n",
    "    }\n",
    "    return 0;\n",
    "}"
   ]
  },
  {
   "cell_type": "code",
   "execution_count": 2,
   "id": "a70da0b5-4009-46e7-9a30-d3b644e15d4c",
   "metadata": {},
   "outputs": [],
   "source": [
    "!g++ Escalera.cpp -o escalera"
   ]
  },
  {
   "cell_type": "code",
   "execution_count": 3,
   "id": "720c0693-34fb-4d20-be3d-63a808ce5d58",
   "metadata": {},
   "outputs": [
    {
     "name": "stdout",
     "output_type": "stream",
     "text": [
      " X no esta entre 1 y 4\n",
      "X es = 1\n",
      "X es = 2\n",
      "X es = 3\n",
      " X no esta entre 1 y 4\n",
      " X no esta entre 1 y 4\n"
     ]
    }
   ],
   "source": [
    "!./escalera"
   ]
  },
  {
   "cell_type": "code",
   "execution_count": null,
   "id": "a4c1476d-a08c-4607-b362-7ba4fed11747",
   "metadata": {},
   "outputs": [],
   "source": []
  }
 ],
 "metadata": {
  "kernelspec": {
   "display_name": "Python 3 (ipykernel)",
   "language": "python",
   "name": "python3"
  },
  "language_info": {
   "codemirror_mode": {
    "name": "ipython",
    "version": 3
   },
   "file_extension": ".py",
   "mimetype": "text/x-python",
   "name": "python",
   "nbconvert_exporter": "python",
   "pygments_lexer": "ipython3",
   "version": "3.10.12"
  }
 },
 "nbformat": 4,
 "nbformat_minor": 5
}
